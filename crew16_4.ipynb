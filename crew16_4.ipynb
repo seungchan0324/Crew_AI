{
 "cells": [
  {
   "cell_type": "code",
   "execution_count": null,
   "metadata": {},
   "outputs": [],
   "source": [
    "import os\n",
    "from dotenv import load_dotenv\n",
    "\n",
    "load_dotenv()\n",
    "\n",
    "os.environ[\"OPENAI_MODEL_NAME\"] = \"gpt-4o-mini\""
   ]
  },
  {
   "cell_type": "code",
   "execution_count": null,
   "metadata": {},
   "outputs": [],
   "source": [
    "from crewai import Crew, Agent, Task\n",
    "\n",
    "international_chef = Agent(\n",
    "    role=\"International Chef\",\n",
    "    goal=\"Create ethnic cuisine recipies that are easy to cook at home\",\n",
    "    backstory=\"\"\"\n",
    "    You are an famous chef that specializes in couisine from countries all around the world.\n",
    "    You know how to cook the most traditional dishes from all cultures but you also know how to adapt them for people to be able to cook them at home.\n",
    "    \"\"\",\n",
    "    verbose=True,\n",
    "    # allow_delegation=False,\n",
    ")\n",
    "\n",
    "healthy_chef = Agent(\n",
    "    role=\"Healthy Chef\",\n",
    "    goal=\"Turn any recipe into a healthy vegetarian recipe that is easy to cook with home ingredients.\",\n",
    "    backstory=\"\"\"\n",
    "    You are a chef specialized in healthy cooking.\n",
    "    You can take any recipe and change the ingredients to make it vegetarian friendly without loosing the escense of the dish and what makes it delicious.\n",
    "    \"\"\",\n",
    "    verbose=True,\n",
    "    # allow_delegation=False,\n",
    ")"
   ]
  },
  {
   "cell_type": "code",
   "execution_count": null,
   "metadata": {},
   "outputs": [],
   "source": [
    "normal_recipe = Task(\n",
    "    description=\"Come up with a {dish} that serves {people} people.\",\n",
    "    agent=international_chef,\n",
    "    expected_output=\"Your answer MUST have three sections, the ingredients required with their quantities, the preparation instructions and serving suggestions\",\n",
    "    output_file=\"normal_recipe.md\",\n",
    ")\n",
    "\n",
    "healthy_recipe = Task(\n",
    "    description=\"Replace the ingredients of a recipe to make it vegetarian without making it less delicious, adjust if needed.\",\n",
    "    agent=healthy_chef,\n",
    "    expected_output=\"Your answer MUST have four sections, the ingredients required with their quantities, the preparation instructions, serving suggestions and an explanation of the replaced ingredients.\",\n",
    "    output_file=\"healthy_recipe.md\",\n",
    ")"
   ]
  },
  {
   "cell_type": "code",
   "execution_count": null,
   "metadata": {},
   "outputs": [],
   "source": [
    "crew = Crew(\n",
    "    tasks=[\n",
    "        normal_recipe,\n",
    "        healthy_recipe,\n",
    "    ],\n",
    "    agents=[\n",
    "        international_chef,\n",
    "        healthy_chef,\n",
    "    ],\n",
    "    verbose=2,\n",
    ")\n",
    "\n",
    "result = crew.kickoff(inputs=dict(dish=\"Greek dinner\", people=\"5\"))"
   ]
  },
  {
   "cell_type": "code",
   "execution_count": 6,
   "metadata": {},
   "outputs": [
    {
     "data": {
      "text/plain": [
       "'**Ingredients Required:**\\n\\n1. **For the Main Dish: Mushroom Souvlaki**\\n   - 1.5 lbs (680 g) firm tofu, cut into 1-inch cubes (or use a mix of mushrooms like portobello and button mushrooms)\\n   - 4 tablespoons olive oil\\n   - 2 tablespoons lemon juice\\n   - 4 garlic cloves, minced\\n   - 2 teaspoons dried oregano\\n   - 1 teaspoon salt\\n   - ½ teaspoon black pepper\\n   - 10 wooden or metal skewers (if using wooden, soak in water for 30 minutes prior)\\n\\n2. **For the Tzatziki Sauce:**\\n   - 1 cup Greek yogurt (or a plant-based yogurt for a vegan option)\\n   - 1 medium cucumber, grated and drained\\n   - 2 garlic cloves, minced\\n   - 1 tablespoon olive oil\\n   - 1 tablespoon fresh dill, chopped (or 1 teaspoon dried dill)\\n   - 1 tablespoon lemon juice\\n   - Salt and pepper to taste\\n\\n3. **For the Side Dish: Greek Salad**\\n   - 4 medium tomatoes, chopped\\n   - 1 cucumber, diced\\n   - 1 bell pepper (any color), diced\\n   - ½ red onion, thinly sliced\\n   - 1 cup feta cheese (or a plant-based feta cheese)\\n   - ½ cup black olives (Kalamata preferred)\\n   - 3 tablespoons olive oil\\n   - 1 tablespoon red wine vinegar\\n   - 1 teaspoon dried oregano\\n   - Salt and pepper to taste\\n\\n4. **For the Pita Bread:**\\n   - 5 pita breads (store-bought or homemade)\\n\\n---\\n\\n**Preparation Instructions:**\\n\\n1. **Mushroom Souvlaki:**\\n   - In a large bowl, mix together the olive oil, lemon juice, minced garlic, oregano, salt, and pepper.\\n   - Add the tofu cubes (or mushroom mix) to the marinade, ensuring all pieces are well coated. Cover and refrigerate for at least 30 minutes (up to 2 hours for more flavor).\\n   - Preheat the grill or grill pan over medium-high heat.\\n   - Thread the marinated tofu (or mushrooms) onto skewers, leaving a little space between each piece.\\n   - Grill the souvlaki for about 10-12 minutes, turning occasionally, until the tofu is golden and slightly charred (or mushrooms are tender and juicy).\\n\\n2. **Tzatziki Sauce:**\\n   - In a mixing bowl, combine the Greek yogurt (or plant-based yogurt), grated cucumber (make sure to squeeze out excess water), minced garlic, olive oil, dill, lemon juice, salt, and pepper.\\n   - Mix until well combined and adjust seasoning to taste. Refrigerate until ready to serve.\\n\\n3. **Greek Salad:**\\n   - In a large bowl, combine the chopped tomatoes, diced cucumber, bell pepper, sliced onion, feta cheese (or plant-based feta), and black olives.\\n   - Drizzle with olive oil and red wine vinegar, sprinkle oregano, salt, and pepper, and toss gently to mix.\\n\\n4. **Pita Bread:**\\n   - If using store-bought pita bread, warm them in a dry skillet over medium heat for about 1-2 minutes on each side or wrap in aluminum foil and heat in the oven at 350°F (175°C) for about 5-7 minutes.\\n\\n---\\n\\n**Serving Suggestions:**\\n- Serve the mushroom souvlaki skewers on a large platter accompanied by the tzatziki sauce for dipping.\\n- Present the Greek salad in a separate bowl, garnished with extra feta and olives if desired.\\n- Warm pita bread can be placed in a basket on the table.\\n- For beverages, consider serving a light white wine like Assyrtiko or a refreshing homemade lemonade to complement the meal.\\n- Enjoy the meal family-style, allowing everyone to assemble their own pita wraps with the mushroom souvlaki, tzatziki, and salad for a fun and interactive dining experience!\\n\\n---\\n\\n**Explanation of the Replaced Ingredients:**\\n- The chicken is replaced with firm tofu or a mix of mushrooms to create a hearty and satisfying vegetarian alternative that maintains the texture and flavor profile. Tofu absorbs the marinade beautifully, while mushrooms offer umami and depth.\\n- Greek yogurt remains unchanged but can be swapped for a plant-based yogurt to cater to vegan diets.\\n- Feta cheese is replaced with a plant-based version for those who prefer dairy-free options while keeping the tangy flavor intact.\\n- The overall preparation and cooking methods remain the same, ensuring that the essence of the Greek dinner is preserved while being adapted to a vegetarian-friendly meal.'"
      ]
     },
     "execution_count": 6,
     "metadata": {},
     "output_type": "execute_result"
    }
   ],
   "source": [
    "result"
   ]
  }
 ],
 "metadata": {
  "kernelspec": {
   "display_name": "env",
   "language": "python",
   "name": "python3"
  },
  "language_info": {
   "codemirror_mode": {
    "name": "ipython",
    "version": 3
   },
   "file_extension": ".py",
   "mimetype": "text/x-python",
   "name": "python",
   "nbconvert_exporter": "python",
   "pygments_lexer": "ipython3",
   "version": "3.11.4"
  }
 },
 "nbformat": 4,
 "nbformat_minor": 2
}
